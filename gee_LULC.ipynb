{
 "cells": [
  {
   "cell_type": "code",
   "execution_count": 13,
   "id": "2f46d3eb-42fd-41e6-9c32-2043e7dd8008",
   "metadata": {},
   "outputs": [
    {
     "data": {
      "text/html": [
       "\n",
       "            <style>\n",
       "                .geemap-dark {\n",
       "                    --jp-widgets-color: white;\n",
       "                    --jp-widgets-label-color: white;\n",
       "                    --jp-ui-font-color1: white;\n",
       "                    --jp-layout-color2: #454545;\n",
       "                    background-color: #383838;\n",
       "                }\n",
       "\n",
       "                .geemap-dark .jupyter-button {\n",
       "                    --jp-layout-color3: #383838;\n",
       "                }\n",
       "\n",
       "                .geemap-colab {\n",
       "                    background-color: var(--colab-primary-surface-color, white);\n",
       "                }\n",
       "\n",
       "                .geemap-colab .jupyter-button {\n",
       "                    --jp-layout-color3: var(--colab-primary-surface-color, white);\n",
       "                }\n",
       "            </style>\n",
       "            "
      ],
      "text/plain": [
       "<IPython.core.display.HTML object>"
      ]
     },
     "metadata": {},
     "output_type": "display_data"
    },
    {
     "data": {
      "application/vnd.jupyter.widget-view+json": {
       "model_id": "411b537d6e28411b9ddd94069c7055fe",
       "version_major": 2,
       "version_minor": 0
      },
      "text/plain": [
       "Map(center=[24.722085103316534, 88.39499976812247], controls=(WidgetControl(options=['position', 'transparent_…"
      ]
     },
     "execution_count": 13,
     "metadata": {},
     "output_type": "execute_result"
    }
   ],
   "source": [
    "import ee\n",
    "import geemap\n",
    "import datetime\n",
    "\n",
    "# Initialize Earth Engine\n",
    "ee.Initialize()\n",
    "\n",
    "# Define Nachole Upazila as a rectangle or use a shapefile\n",
    "nachole = ee.FeatureCollection(\"projects/gee-myproject-israqsadmani/assets/Nachole\")\n",
    "\n",
    "# Define date range\n",
    "start_date = '2025-01-15'\n",
    "end_date = '2025-02-15'\n",
    "\n",
    "# Load Sentinel-2 ImageCollection\n",
    "s2 = ee.ImageCollection('COPERNICUS/S2_SR_HARMONIZED') \\\n",
    "    .filterBounds(nachole) \\\n",
    "    .filterDate(start_date, end_date) \\\n",
    "    .filter(ee.Filter.lt('CLOUDY_PIXEL_PERCENTAGE', 20)) \\\n",
    "    .sort('CLOUDY_PIXEL_PERCENTAGE')\n",
    "\n",
    "# Print image info\n",
    "#print('Number of images:', s2.size().getInfo())\n",
    "\n",
    "# Get the least cloudy image\n",
    "image = s2.first()\n",
    "\n",
    "\n",
    "# Visualize in RGB\n",
    "Map = geemap.Map()\n",
    "Map.centerObject(nachole, 12)\n",
    "Map.addLayer(image.clip(nachole), {\n",
    "    'bands': ['B4', 'B3', 'B2'],\n",
    "    'min': 0,\n",
    "    'max': 3000\n",
    "}, 'Sentinel-2 RGB')\n",
    "Map.addLayer(nachole, {}, 'Nachole Boundary')\n",
    "Map\n"
   ]
  },
  {
   "cell_type": "code",
   "execution_count": 14,
   "id": "b64aac52-c547-4fb8-b756-528a44208f28",
   "metadata": {},
   "outputs": [
    {
     "data": {
      "text/html": [
       "\n",
       "            <style>\n",
       "                .geemap-dark {\n",
       "                    --jp-widgets-color: white;\n",
       "                    --jp-widgets-label-color: white;\n",
       "                    --jp-ui-font-color1: white;\n",
       "                    --jp-layout-color2: #454545;\n",
       "                    background-color: #383838;\n",
       "                }\n",
       "\n",
       "                .geemap-dark .jupyter-button {\n",
       "                    --jp-layout-color3: #383838;\n",
       "                }\n",
       "\n",
       "                .geemap-colab {\n",
       "                    background-color: var(--colab-primary-surface-color, white);\n",
       "                }\n",
       "\n",
       "                .geemap-colab .jupyter-button {\n",
       "                    --jp-layout-color3: var(--colab-primary-surface-color, white);\n",
       "                }\n",
       "            </style>\n",
       "            "
      ],
      "text/plain": [
       "<IPython.core.display.HTML object>"
      ]
     },
     "metadata": {},
     "output_type": "display_data"
    }
   ],
   "source": [
    "# Get the least cloudy image\n",
    "first_image = s2.first()\n",
    "\n",
    "# Clip to Nachole AOI\n",
    "clipped_image = first_image.clip(nachole)"
   ]
  },
  {
   "cell_type": "code",
   "execution_count": 15,
   "id": "6c5d6d71-fdbf-45fa-8b3a-ed7c896f5747",
   "metadata": {},
   "outputs": [
    {
     "data": {
      "text/html": [
       "\n",
       "            <style>\n",
       "                .geemap-dark {\n",
       "                    --jp-widgets-color: white;\n",
       "                    --jp-widgets-label-color: white;\n",
       "                    --jp-ui-font-color1: white;\n",
       "                    --jp-layout-color2: #454545;\n",
       "                    background-color: #383838;\n",
       "                }\n",
       "\n",
       "                .geemap-dark .jupyter-button {\n",
       "                    --jp-layout-color3: #383838;\n",
       "                }\n",
       "\n",
       "                .geemap-colab {\n",
       "                    background-color: var(--colab-primary-surface-color, white);\n",
       "                }\n",
       "\n",
       "                .geemap-colab .jupyter-button {\n",
       "                    --jp-layout-color3: var(--colab-primary-surface-color, white);\n",
       "                }\n",
       "            </style>\n",
       "            "
      ],
      "text/plain": [
       "<IPython.core.display.HTML object>"
      ]
     },
     "metadata": {},
     "output_type": "display_data"
    }
   ],
   "source": [
    "export_task = ee.batch.Export.image.toDrive(\n",
    "    image=clipped_image,\n",
    "    description='Nachole_S2_FullBands',\n",
    "    folder='GEE_Exports',\n",
    "    fileNamePrefix='nachole_s2_jan_feb_2025_all_bands',\n",
    "    region=nachole.geometry(),\n",
    "    scale=10,  # Sentinel-2 native resolution\n",
    "    crs='EPSG:4326',\n",
    "    maxPixels=1e13,\n",
    "    fileFormat='GeoTIFF'\n",
    ")\n",
    "\n",
    "# Start the export\n",
    "export_task.start()\n"
   ]
  }
 ],
 "metadata": {
  "kernelspec": {
   "display_name": "Python 3 (ipykernel)",
   "language": "python",
   "name": "python3"
  },
  "language_info": {
   "codemirror_mode": {
    "name": "ipython",
    "version": 3
   },
   "file_extension": ".py",
   "mimetype": "text/x-python",
   "name": "python",
   "nbconvert_exporter": "python",
   "pygments_lexer": "ipython3",
   "version": "3.11.11"
  }
 },
 "nbformat": 4,
 "nbformat_minor": 5
}
